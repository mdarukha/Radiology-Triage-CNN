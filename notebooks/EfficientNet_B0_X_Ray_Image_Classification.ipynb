{
  "cells": [
    {
      "cell_type": "markdown",
      "id": "99f60af6",
      "metadata": {
        "id": "99f60af6"
      },
      "source": [
        "filter data entry csv for relevant classes"
      ]
    },
    {
      "cell_type": "code",
      "execution_count": null,
      "id": "8e902db3",
      "metadata": {
        "id": "8e902db3",
        "outputId": "ef8a6d83-2623-494f-b355-eeaa311370f4"
      },
      "outputs": [
        {
          "name": "stdout",
          "output_type": "stream",
          "text": [
            "Final subset class distribution:\n",
            "Label\n",
            "Infiltration    9547\n",
            "Atelectasis     4215\n",
            "Effusion        3955\n",
            "Name: count, dtype: int64\n"
          ]
        }
      ],
      "source": [
        "import pandas as pd\n",
        "import os\n",
        "\n",
        "# Paths\n",
        "csv_path = \"Data_Entry_2017.csv\"\n",
        "image_dir = \"chest_xray_full/images\"\n",
        "\n",
        "\n",
        "# Load and clean\n",
        "df = pd.read_csv(csv_path)\n",
        "available_images = set(os.listdir(image_dir))\n",
        "df = df[df['Image Index'].isin(available_images)]\n",
        "\n",
        "df['Finding Labels'] = df['Finding Labels'].str.split('|')\n",
        "df['num_labels'] = df['Finding Labels'].apply(len)\n",
        "df = df[df['num_labels'] == 1]\n",
        "df['Label'] = df['Finding Labels'].str[0]\n",
        "\n",
        "# Top 3 classes (excluding \"No Finding\")\n",
        "top6_labels = df['Label'].value_counts().drop(\"No Finding\", errors='ignore').nlargest(3).index.tolist()\n",
        "\n",
        "# Keep all rows with those 3 classes\n",
        "df_top6 = df[df['Label'].isin(top6_labels)]\n",
        "df_subset = df[df['Label'].isin(top6_labels)].reset_index(drop=True)\n",
        "\n",
        "\n",
        "print(\"Final subset class distribution:\")\n",
        "print(df_subset['Label'].value_counts())\n"
      ]
    },
    {
      "cell_type": "markdown",
      "id": "ba269dd6",
      "metadata": {
        "id": "ba269dd6"
      },
      "source": [
        "get weights to address class imbalance"
      ]
    },
    {
      "cell_type": "code",
      "execution_count": null,
      "id": "28be6440",
      "metadata": {
        "id": "28be6440"
      },
      "outputs": [],
      "source": [
        "import torch\n",
        "from sklearn.utils.class_weight import compute_class_weight\n",
        "import numpy as np\n",
        "import torch.nn as nn\n",
        "\n",
        "device = torch.device(\"cuda\" if torch.cuda.is_available() else \"cpu\")\n",
        "\n",
        "# Compute class weights\n",
        "class_weights = compute_class_weight(\n",
        "    class_weight='balanced',\n",
        "    classes=np.unique(df_subset['Label']),\n",
        "    y=df_subset['Label']\n",
        ")\n",
        "\n",
        "weights = torch.tensor(class_weights, dtype=torch.float).to(device)\n",
        "criterion = nn.CrossEntropyLoss(weight=weights)\n"
      ]
    },
    {
      "cell_type": "markdown",
      "id": "d29bd993",
      "metadata": {
        "id": "d29bd993"
      },
      "source": [
        "create dataset class"
      ]
    },
    {
      "cell_type": "code",
      "execution_count": null,
      "id": "69655dd2",
      "metadata": {
        "id": "69655dd2"
      },
      "outputs": [],
      "source": [
        "from torch.utils.data import Dataset\n",
        "from sklearn.preprocessing import LabelEncoder\n",
        "from PIL import Image\n",
        "import os\n",
        "import torch\n",
        "\n",
        "class ChestXrayDataset(Dataset):\n",
        "    def __init__(self, dataframe, image_dir, transform=None):\n",
        "        self.data = dataframe.copy()\n",
        "        self.image_dir = image_dir\n",
        "        self.transform = transform\n",
        "\n",
        "        # Encode string labels\n",
        "        self.label_encoder = LabelEncoder()\n",
        "        self.data['label_idx'] = self.label_encoder.fit_transform(self.data['Label'])\n",
        "        self.class_names = list(self.label_encoder.classes_)\n",
        "\n",
        "    def __len__(self):\n",
        "        return len(self.data)\n",
        "\n",
        "    def __getitem__(self, idx):\n",
        "        row = self.data.iloc[idx]\n",
        "        img_path = os.path.join(self.image_dir, row['Image Index'])\n",
        "        label = torch.tensor(row['label_idx'], dtype=torch.long)\n",
        "\n",
        "        # load and transform image\n",
        "        image = Image.open(img_path).convert(\"RGB\")\n",
        "        if self.transform:\n",
        "            image = self.transform(image)\n",
        "\n",
        "        return image, torch.tensor(label, dtype=torch.long)\n"
      ]
    },
    {
      "cell_type": "markdown",
      "id": "409c0506",
      "metadata": {
        "id": "409c0506"
      },
      "source": [
        "set data loaders, split dataset"
      ]
    },
    {
      "cell_type": "code",
      "execution_count": null,
      "id": "ba59e962",
      "metadata": {
        "id": "ba59e962",
        "outputId": "c8b3224b-b629-4a41-aebe-4ecee0f21a57"
      },
      "outputs": [
        {
          "name": "stdout",
          "output_type": "stream",
          "text": [
            "Train: 12401 | Val: 2657 | Test: 2659\n",
            "Classes: ['Atelectasis', 'Effusion', 'Infiltration']\n"
          ]
        }
      ],
      "source": [
        "from torch.utils.data import DataLoader, random_split\n",
        "import torchvision.transforms as T\n",
        "\n",
        "transform = T.Compose([\n",
        "    T.Resize((224, 224)),\n",
        "    T.RandomHorizontalFlip(p=0.5),\n",
        "    T.RandomRotation(degrees=10),\n",
        "    T.ColorJitter(brightness=0.1, contrast=0.1),\n",
        "    T.ToTensor(),\n",
        "    T.Normalize([0.485, 0.456, 0.406],\n",
        "                [0.229, 0.224, 0.225])\n",
        "])\n",
        "\n",
        "image_dir = \"chest_xray_full/images\"\n",
        "dataset = ChestXrayDataset(dataframe=df_subset, image_dir=image_dir, transform=transform)\n",
        "\n",
        "# Split\n",
        "train_size = int(0.7 * len(dataset))\n",
        "val_size = int(0.15 * len(dataset))\n",
        "test_size = len(dataset) - train_size - val_size\n",
        "train_set, val_set, test_set = random_split(dataset, [train_size, val_size, test_size])\n",
        "\n",
        "# Loaders\n",
        "train_loader = DataLoader(train_set, batch_size=32, shuffle=True)\n",
        "val_loader = DataLoader(val_set, batch_size=32)\n",
        "test_loader = DataLoader(test_set, batch_size=32)\n",
        "\n",
        "# Confirm sizes\n",
        "print(f\"Train: {len(train_set)} | Val: {len(val_set)} | Test: {len(test_set)}\")\n",
        "print(f\"Classes: {dataset.class_names}\")\n"
      ]
    },
    {
      "cell_type": "markdown",
      "id": "74d3b71d",
      "metadata": {
        "id": "74d3b71d"
      },
      "source": [
        "show class-weight mapping"
      ]
    },
    {
      "cell_type": "code",
      "execution_count": null,
      "id": "9bcf8b35",
      "metadata": {
        "id": "9bcf8b35",
        "outputId": "8199a91b-6fe3-4a18-c15f-ec8ab35f75dc"
      },
      "outputs": [
        {
          "name": "stdout",
          "output_type": "stream",
          "text": [
            "Class Weights:\n",
            "Class 0: Atelectasis          → Weight: 1.4011\n",
            "Class 1: Effusion             → Weight: 1.4932\n",
            "Class 2: Infiltration         → Weight: 0.6186\n"
          ]
        }
      ],
      "source": [
        "from sklearn.utils.class_weight import compute_class_weight\n",
        "import numpy as np\n",
        "\n",
        "# use same label list for weights\n",
        "class_weights = compute_class_weight(\n",
        "    class_weight='balanced',\n",
        "    classes=np.unique(df_subset['Label']),\n",
        "    y=df_subset['Label']\n",
        ")\n",
        "\n",
        "weights = torch.tensor(class_weights, dtype=torch.float).to(device)\n",
        "\n",
        "# label-weight mapping\n",
        "print(\"Class Weights:\")\n",
        "for idx, (label, weight) in enumerate(zip(dataset.class_names, weights.cpu().numpy())):\n",
        "    print(f\"Class {idx}: {label:<20} → Weight: {weight:.4f}\")\n"
      ]
    },
    {
      "cell_type": "markdown",
      "id": "6d553bd5",
      "metadata": {
        "id": "6d553bd5"
      },
      "source": [
        "train efficient net CNN model"
      ]
    },
    {
      "cell_type": "code",
      "execution_count": null,
      "id": "4cb125c4",
      "metadata": {
        "colab": {
          "referenced_widgets": [
            "90cb4e61a8a74236a14cdd33700154c5",
            "be15b33b69884d01ab65050b067986b2",
            "7011fc67b4e847ae84592e6b89acd928",
            "66ea719de967451db7620d2cb8c6a6b8",
            "96f75dd9d520416db17a5b869579e33f",
            "b10213204851457ab3cf5c63aa693cf3",
            "39b3e57a4ed44f4cb7de21b52dc86132",
            "64311bc7b686452b8dedc1b620631000",
            "55b3aafa54a64de8b4c348edc1fd8b71",
            "5451994d6dfc45e7999c22e415ff2467",
            "e5a0b3632f3c4b788c67b995ee54a06a",
            "2bf377c39fe54cfbbefa7f02277c6c92",
            "a2c3606242444778b78e4f6da1f4c3e8",
            "4e78a141e8d34fd5a51d3647143ac773"
          ]
        },
        "id": "4cb125c4",
        "outputId": "8e5bb5ee-4f8e-4db0-a7e5-ecc1cc66b3fa"
      },
      "outputs": [
        {
          "name": "stdout",
          "output_type": "stream",
          "text": [
            "Using device: CPU\n"
          ]
        },
        {
          "data": {
            "application/vnd.jupyter.widget-view+json": {
              "model_id": "90cb4e61a8a74236a14cdd33700154c5",
              "version_major": 2,
              "version_minor": 0
            },
            "text/plain": [
              "Epoch 1 [Train]:   0%|          | 0/388 [00:00<?, ?it/s]"
            ]
          },
          "metadata": {},
          "output_type": "display_data"
        },
        {
          "name": "stderr",
          "output_type": "stream",
          "text": [
            "C:\\Users\\Deeks\\AppData\\Local\\Temp\\ipykernel_34420\\1489869507.py:31: UserWarning: To copy construct from a tensor, it is recommended to use sourceTensor.detach().clone() or sourceTensor.detach().clone().requires_grad_(True), rather than torch.tensor(sourceTensor).\n",
            "  return image, torch.tensor(label, dtype=torch.long)\n"
          ]
        },
        {
          "data": {
            "application/vnd.jupyter.widget-view+json": {
              "model_id": "be15b33b69884d01ab65050b067986b2",
              "version_major": 2,
              "version_minor": 0
            },
            "text/plain": [
              "Epoch 1 [Val]:   0%|          | 0/84 [00:00<?, ?it/s]"
            ]
          },
          "metadata": {},
          "output_type": "display_data"
        },
        {
          "name": "stdout",
          "output_type": "stream",
          "text": [
            "[Epoch 1] Train Loss: 0.8392, Acc: 0.6257 | Val Loss: 0.7530, Acc: 0.6680\n"
          ]
        },
        {
          "data": {
            "application/vnd.jupyter.widget-view+json": {
              "model_id": "7011fc67b4e847ae84592e6b89acd928",
              "version_major": 2,
              "version_minor": 0
            },
            "text/plain": [
              "Epoch 2 [Train]:   0%|          | 0/388 [00:00<?, ?it/s]"
            ]
          },
          "metadata": {},
          "output_type": "display_data"
        },
        {
          "data": {
            "application/vnd.jupyter.widget-view+json": {
              "model_id": "66ea719de967451db7620d2cb8c6a6b8",
              "version_major": 2,
              "version_minor": 0
            },
            "text/plain": [
              "Epoch 2 [Val]:   0%|          | 0/84 [00:00<?, ?it/s]"
            ]
          },
          "metadata": {},
          "output_type": "display_data"
        },
        {
          "name": "stdout",
          "output_type": "stream",
          "text": [
            "[Epoch 2] Train Loss: 0.7247, Acc: 0.6907 | Val Loss: 0.7252, Acc: 0.6842\n"
          ]
        },
        {
          "data": {
            "application/vnd.jupyter.widget-view+json": {
              "model_id": "96f75dd9d520416db17a5b869579e33f",
              "version_major": 2,
              "version_minor": 0
            },
            "text/plain": [
              "Epoch 3 [Train]:   0%|          | 0/388 [00:00<?, ?it/s]"
            ]
          },
          "metadata": {},
          "output_type": "display_data"
        },
        {
          "data": {
            "application/vnd.jupyter.widget-view+json": {
              "model_id": "b10213204851457ab3cf5c63aa693cf3",
              "version_major": 2,
              "version_minor": 0
            },
            "text/plain": [
              "Epoch 3 [Val]:   0%|          | 0/84 [00:00<?, ?it/s]"
            ]
          },
          "metadata": {},
          "output_type": "display_data"
        },
        {
          "name": "stdout",
          "output_type": "stream",
          "text": [
            "[Epoch 3] Train Loss: 0.6702, Acc: 0.7197 | Val Loss: 0.7209, Acc: 0.6918\n"
          ]
        },
        {
          "data": {
            "application/vnd.jupyter.widget-view+json": {
              "model_id": "39b3e57a4ed44f4cb7de21b52dc86132",
              "version_major": 2,
              "version_minor": 0
            },
            "text/plain": [
              "Epoch 4 [Train]:   0%|          | 0/388 [00:00<?, ?it/s]"
            ]
          },
          "metadata": {},
          "output_type": "display_data"
        },
        {
          "data": {
            "application/vnd.jupyter.widget-view+json": {
              "model_id": "64311bc7b686452b8dedc1b620631000",
              "version_major": 2,
              "version_minor": 0
            },
            "text/plain": [
              "Epoch 4 [Val]:   0%|          | 0/84 [00:00<?, ?it/s]"
            ]
          },
          "metadata": {},
          "output_type": "display_data"
        },
        {
          "name": "stdout",
          "output_type": "stream",
          "text": [
            "[Epoch 4] Train Loss: 0.6370, Acc: 0.7324 | Val Loss: 0.7146, Acc: 0.6906\n"
          ]
        },
        {
          "data": {
            "application/vnd.jupyter.widget-view+json": {
              "model_id": "55b3aafa54a64de8b4c348edc1fd8b71",
              "version_major": 2,
              "version_minor": 0
            },
            "text/plain": [
              "Epoch 5 [Train]:   0%|          | 0/388 [00:00<?, ?it/s]"
            ]
          },
          "metadata": {},
          "output_type": "display_data"
        },
        {
          "data": {
            "application/vnd.jupyter.widget-view+json": {
              "model_id": "5451994d6dfc45e7999c22e415ff2467",
              "version_major": 2,
              "version_minor": 0
            },
            "text/plain": [
              "Epoch 5 [Val]:   0%|          | 0/84 [00:00<?, ?it/s]"
            ]
          },
          "metadata": {},
          "output_type": "display_data"
        },
        {
          "name": "stdout",
          "output_type": "stream",
          "text": [
            "[Epoch 5] Train Loss: 0.6063, Acc: 0.7465 | Val Loss: 0.7349, Acc: 0.6948\n"
          ]
        },
        {
          "data": {
            "application/vnd.jupyter.widget-view+json": {
              "model_id": "e5a0b3632f3c4b788c67b995ee54a06a",
              "version_major": 2,
              "version_minor": 0
            },
            "text/plain": [
              "Epoch 6 [Train]:   0%|          | 0/388 [00:00<?, ?it/s]"
            ]
          },
          "metadata": {},
          "output_type": "display_data"
        },
        {
          "data": {
            "application/vnd.jupyter.widget-view+json": {
              "model_id": "2bf377c39fe54cfbbefa7f02277c6c92",
              "version_major": 2,
              "version_minor": 0
            },
            "text/plain": [
              "Epoch 6 [Val]:   0%|          | 0/84 [00:00<?, ?it/s]"
            ]
          },
          "metadata": {},
          "output_type": "display_data"
        },
        {
          "name": "stdout",
          "output_type": "stream",
          "text": [
            "[Epoch 6] Train Loss: 0.5622, Acc: 0.7690 | Val Loss: 0.7357, Acc: 0.7076\n"
          ]
        },
        {
          "data": {
            "application/vnd.jupyter.widget-view+json": {
              "model_id": "a2c3606242444778b78e4f6da1f4c3e8",
              "version_major": 2,
              "version_minor": 0
            },
            "text/plain": [
              "Epoch 7 [Train]:   0%|          | 0/388 [00:00<?, ?it/s]"
            ]
          },
          "metadata": {},
          "output_type": "display_data"
        },
        {
          "data": {
            "application/vnd.jupyter.widget-view+json": {
              "model_id": "4e78a141e8d34fd5a51d3647143ac773",
              "version_major": 2,
              "version_minor": 0
            },
            "text/plain": [
              "Epoch 7 [Val]:   0%|          | 0/84 [00:00<?, ?it/s]"
            ]
          },
          "metadata": {},
          "output_type": "display_data"
        },
        {
          "name": "stdout",
          "output_type": "stream",
          "text": [
            "[Epoch 7] Train Loss: 0.5261, Acc: 0.7845 | Val Loss: 0.7827, Acc: 0.6887\n",
            "⏹️ Early stopping at epoch 7\n"
          ]
        },
        {
          "data": {
            "image/png": "[encoded data removed]",
            "text/plain": [
              "<Figure size 1200x500 with 2 Axes>"
            ]
          },
          "metadata": {},
          "output_type": "display_data"
        },
        {
          "name": "stdout",
          "output_type": "stream",
          "text": [
            "\n",
            "✅ Final Test Loss: 0.7113 | Accuracy: 0.6991\n",
            "\n",
            "🔍 Classification Report:\n",
            "              precision    recall  f1-score   support\n",
            "\n",
            " Atelectasis       0.58      0.56      0.57       627\n",
            "    Effusion       0.66      0.63      0.64       626\n",
            "Infiltration       0.76      0.80      0.78      1406\n",
            "\n",
            "    accuracy                           0.70      2659\n",
            "   macro avg       0.67      0.66      0.66      2659\n",
            "weighted avg       0.70      0.70      0.70      2659\n",
            "\n"
          ]
        },
        {
          "data": {
            "image/png": "[encoded data removed]",
            "text/plain": [
              "<Figure size 800x600 with 2 Axes>"
            ]
          },
          "metadata": {},
          "output_type": "display_data"
        }
      ],
      "source": [
        "import torch\n",
        "import torch.nn as nn\n",
        "import torch.optim as optim\n",
        "from torchvision import models\n",
        "from torchvision.models import efficientnet_b0\n",
        "from sklearn.metrics import classification_report, confusion_matrix\n",
        "import matplotlib.pyplot as plt\n",
        "import seaborn as sns\n",
        "from tqdm.notebook import tqdm\n",
        "\n",
        "# setup\n",
        "device = torch.device(\"cuda\" if torch.cuda.is_available() else \"cpu\")\n",
        "print(\"Using device:\", torch.cuda.get_device_name(0) if torch.cuda.is_available() else \"CPU\")\n",
        "\n",
        "# model: efficientnet b0\n",
        "num_classes = len(dataset.class_names)\n",
        "model = efficientnet_b0(pretrained=True)\n",
        "model.classifier[1] = nn.Linear(model.classifier[1].in_features, num_classes)\n",
        "model = model.to(device)\n",
        "\n",
        "# Loss and optimizer\n",
        "criterion = nn.CrossEntropyLoss(weight=weights)\n",
        "# criterion = nn.CrossEntropyLoss()\n",
        "optimizer = optim.Adam(model.parameters(), lr=1e-4)\n",
        "\n",
        "# Training loop setup\n",
        "epochs = 20\n",
        "train_losses, val_losses = [], []\n",
        "train_accuracies, val_accuracies = [], []\n",
        "\n",
        "best_val_loss = float('inf')\n",
        "patience = 3\n",
        "counter = 0\n",
        "\n",
        "\n",
        "\n",
        "# training loop\n",
        "for epoch in range(epochs):\n",
        "    model.train()\n",
        "    running_loss = 0.0\n",
        "    correct = 0\n",
        "\n",
        "    for images, labels in tqdm(train_loader, desc=f\"Epoch {epoch+1} [Train]\"):\n",
        "        images, labels = images.to(device), labels.to(device)\n",
        "        optimizer.zero_grad()\n",
        "\n",
        "        outputs = model(images)\n",
        "        loss = criterion(outputs, labels)\n",
        "        loss.backward()\n",
        "        optimizer.step()\n",
        "\n",
        "        running_loss += loss.item() * images.size(0)\n",
        "        preds = torch.argmax(outputs, dim=1)\n",
        "        correct += (preds == labels).sum().item()\n",
        "\n",
        "    epoch_loss = running_loss / len(train_loader.dataset)\n",
        "    epoch_acc = correct / len(train_loader.dataset)\n",
        "    train_losses.append(epoch_loss)\n",
        "    train_accuracies.append(epoch_acc)\n",
        "\n",
        "    # validation\n",
        "    model.eval()\n",
        "    val_loss = 0.0\n",
        "    val_correct = 0\n",
        "\n",
        "    with torch.no_grad():\n",
        "        for images, labels in tqdm(val_loader, desc=f\"Epoch {epoch+1} [Val]\"):\n",
        "            images, labels = images.to(device), labels.to(device)\n",
        "            outputs = model(images)\n",
        "            loss = criterion(outputs, labels)\n",
        "\n",
        "            val_loss += loss.item() * images.size(0)\n",
        "            preds = torch.argmax(outputs, dim=1)\n",
        "            val_correct += (preds == labels).sum().item()\n",
        "\n",
        "    val_loss /= len(val_loader.dataset)\n",
        "    val_acc = val_correct / len(val_loader.dataset)\n",
        "    val_losses.append(val_loss)\n",
        "    val_accuracies.append(val_acc)\n",
        "\n",
        "    print(f\"[Epoch {epoch+1}] \"\n",
        "          f\"Train Loss: {epoch_loss:.4f}, Acc: {epoch_acc:.4f} | \"\n",
        "          f\"Val Loss: {val_loss:.4f}, Acc: {val_acc:.4f}\")\n",
        "\n",
        "    # early stopping when val_loss increases\n",
        "    if val_loss < best_val_loss:\n",
        "        best_val_loss = val_loss\n",
        "        counter = 0\n",
        "        torch.save(model.state_dict(), \"best_model.pth\")\n",
        "    else:\n",
        "        counter += 1\n",
        "        if counter >= patience:\n",
        "            print(f\"⏹️ Early stopping at epoch {epoch+1}\")\n",
        "            break\n",
        "\n",
        "# plot loss and accuracy\n",
        "epochs_range = range(1, len(train_losses) + 1)\n",
        "plt.figure(figsize=(12, 5))\n",
        "\n",
        "# Loss\n",
        "plt.subplot(1, 2, 1)\n",
        "plt.plot(epochs_range, train_losses, label='Train Loss')\n",
        "plt.plot(epochs_range, val_losses, label='Val Loss')\n",
        "plt.xlabel(\"Epoch\")\n",
        "plt.ylabel(\"Loss\")\n",
        "plt.title(\"Loss Over Epochs\")\n",
        "plt.legend()\n",
        "\n",
        "# Accuracy\n",
        "plt.subplot(1, 2, 2)\n",
        "plt.plot(epochs_range, train_accuracies, label='Train Accuracy')\n",
        "plt.plot(epochs_range, val_accuracies, label='Val Accuracy')\n",
        "plt.xlabel(\"Epoch\")\n",
        "plt.ylabel(\"Accuracy\")\n",
        "plt.title(\"Accuracy Over Epochs\")\n",
        "plt.legend()\n",
        "\n",
        "plt.tight_layout()\n",
        "plt.show()\n",
        "\n",
        "\n",
        "model.load_state_dict(torch.load(\"best_model.pth\"))\n",
        "\n",
        "# eval on test set\n",
        "model.eval()\n",
        "test_loss = 0.0\n",
        "test_correct = 0\n",
        "all_preds = []\n",
        "all_labels = []\n",
        "\n",
        "with torch.no_grad():\n",
        "    for images, labels in test_loader:\n",
        "        images, labels = images.to(device), labels.to(device)\n",
        "        outputs = model(images)\n",
        "        loss = criterion(outputs, labels)\n",
        "\n",
        "        test_loss += loss.item() * images.size(0)\n",
        "\n",
        "        preds = torch.argmax(outputs, dim=1)\n",
        "        test_correct += (preds == labels).sum().item()\n",
        "\n",
        "        all_preds.extend(preds.cpu().numpy())\n",
        "        all_labels.extend(labels.cpu().numpy())\n",
        "\n",
        "test_loss /= len(test_loader.dataset)\n",
        "test_acc = test_correct / len(test_loader.dataset)\n",
        "\n",
        "print(f\"\\n✅ Final Test Loss: {test_loss:.4f} | Accuracy: {test_acc:.4f}\")\n",
        "\n",
        "# classification report for f1\n",
        "print(\"\\n🔍 Classification Report:\")\n",
        "print(classification_report(all_labels, all_preds, target_names=dataset.class_names))\n",
        "\n",
        "# confusion matrix\n",
        "cm = confusion_matrix(all_labels, all_preds)\n",
        "plt.figure(figsize=(8, 6))\n",
        "sns.heatmap(cm, annot=True, fmt='d', cmap='Blues',\n",
        "            xticklabels=dataset.class_names,\n",
        "            yticklabels=dataset.class_names)\n",
        "plt.xlabel(\"Predicted Label\")\n",
        "plt.ylabel(\"True Label\")\n",
        "plt.title(\"Confusion Matrix\")\n",
        "plt.tight_layout()\n",
        "plt.show()\n"
      ]
    }
  ],
  "metadata": {
    "kernelspec": {
      "display_name": "Python 3",
      "language": "python",
      "name": "python3"
    },
    "language_info": {
      "codemirror_mode": {
        "name": "ipython",
        "version": 3
      },
      "file_extension": ".py",
      "mimetype": "text/x-python",
      "name": "python",
      "nbconvert_exporter": "python",
      "pygments_lexer": "ipython3",
      "version": "3.11.4"
    },
    "colab": {
      "provenance": []
    }
  },
  "nbformat": 4,
  "nbformat_minor": 5
}